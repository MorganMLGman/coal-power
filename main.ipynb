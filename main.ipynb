{
 "cells": [
  {
   "cell_type": "markdown",
   "metadata": {},
   "source": [
    "# Combustion analysis in a coal-fired power plant"
   ]
  },
  {
   "cell_type": "code",
   "execution_count": 1,
   "metadata": {},
   "outputs": [],
   "source": [
    "import pandas as pd\n",
    "import numpy as np\n",
    "from matplotlib import pyplot as plt\n",
    "from scipy.io import loadmat\n",
    "from scipy.signal import find_peaks, findfreqs"
   ]
  },
  {
   "cell_type": "code",
   "execution_count": 2,
   "metadata": {},
   "outputs": [],
   "source": [
    "DATA_FILE = \"a08r.mat\"\n",
    "ARRAY_NAME = \"a08r\"\n",
    "SPS = 8192 # Samples per second"
   ]
  },
  {
   "cell_type": "markdown",
   "metadata": {},
   "source": [
    "### findMaximum\n",
    "Funkcja służąca do wyszukiwanie punktów maksimum w otrzymanych danych\n",
    "\n",
    "Parametry:\n",
    "- data: dataFrame z danymi, cały niezmodyfikowany\n",
    "- column: nazwa kolumny w której chcemy szukać\n",
    "- width: minimalna szerokość (x) piku\n",
    "- distance: minimlna odległość (x) pomiędzy szukanymi punktami\n",
    "- threshold: minimlna/maksymalna odległość (y) pomiędzy szukanymi punktami\n",
    "- prominence: eeee, to nie wiem, ale czasami jak większe to pomaga eliminować podwójne punkty\n",
    "  \n",
    "Zwraca listę z punktami maksimum\n"
   ]
  },
  {
   "cell_type": "code",
   "execution_count": 3,
   "metadata": {},
   "outputs": [],
   "source": [
    "def findMaximums(data: pd.DataFrame, column: str, width: int = 10, distance: int = SPS*45, threshold: list = None, prominence: float = 0.1) -> list:\n",
    "    \"\"\"Funkcja służąca do wyszukiwanie punktów maksimum w otrzymanych danych\n",
    "\n",
    "    Args:\n",
    "        data (pd.DataFrame): dataFrame z danymi, cały niezmodyfikowany\n",
    "        column (str): nazwa kolumny w której chcemy szukać\n",
    "        width (int, optional): minimalna szerokość (x) piku. Defaults to 10.\n",
    "        distance (int, optional): minimlna odległość (x) pomiędzy szukanymi punktami. Defaults to SPS*45.\n",
    "        threshold (list, optional): minimlna/maksymalna odległość (y) pomiędzy szukanymi punktami. Defaults to None.\n",
    "        prominence (float, optional): eeee, to nie wiem, ale czasami jak większe to pomaga eliminować podwójne punkty. Defaults to 0.1.\n",
    "\n",
    "    Returns:\n",
    "        list: Zwraca listę z punktami maksimum\n",
    "    \"\"\"\n",
    "    ret = []\n",
    "    ret = find_peaks(data[column], width=width, distance=distance, threshold=threshold, prominence=prominence)[0].tolist()\n",
    "    return ret  "
   ]
  },
  {
   "cell_type": "markdown",
   "metadata": {},
   "source": [
    "### dataSplit\n",
    "Funkcja służąca do podziału danych na podzbiory, według podanej listy podziału\n",
    "\n",
    "Parametry:\n",
    "- data: dataFrame z danymi, cały niezmodyfikowany\n",
    "- spliter: lista, wykorzystywana do podziału\n",
    "- channel: nazwa kanału, który ma zostać zpisany, `all` jeżeli wszystkie\n",
    "  \n",
    "Zwraca dataFrame z przedziałami"
   ]
  },
  {
   "cell_type": "code",
   "execution_count": 4,
   "metadata": {},
   "outputs": [],
   "source": [
    "def dataSplit(data: pd.DataFrame, spliter: list, channel: str = \"all\") -> pd.DataFrame:\n",
    "    \"\"\"Funkcja służąca do podziału danych na podzbiory, według podanej listy podziału\n",
    "\n",
    "    Args:\n",
    "        data (pd.DataFrame): dataFrame z danymi, cały niezmodyfikowany\n",
    "        spliter (list): lista, wykorzystywana do podziału\n",
    "        channel (str): nazwa kanału, który ma zostać zpisany, `all` jeżeli wszystkie\n",
    "\n",
    "    Returns:\n",
    "        pd.DataFrame: Zwraca dataFrame z przedziałami\n",
    "    \"\"\"\n",
    "    ret = pd.DataFrame()\n",
    "    num_of_buckets = len(spliter) - 1\n",
    "    keys = [f\"bucket{i}\" for i in range(num_of_buckets)]\n",
    "    tmp = []\n",
    "    \n",
    "    if \"all\" == channel:\n",
    "        for item in range(num_of_buckets):\n",
    "            tmp.append(data[spliter[item]:spliter[item + 1]])\n",
    "        ret = pd.concat(tmp, keys=keys)\n",
    "    elif channel in data.columns:\n",
    "        for item in range(num_of_buckets):\n",
    "            tmp.append(data[channel][spliter[item]:spliter[item + 1]])\n",
    "        ret = pd.concat(tmp, keys=keys)\n",
    "    else:\n",
    "        ret = None\n",
    "    return ret"
   ]
  },
  {
   "cell_type": "code",
   "execution_count": 5,
   "metadata": {},
   "outputs": [
    {
     "name": "stdout",
     "output_type": "stream",
     "text": [
      "        ch1       ch2       ch3       ch4       ch5\n",
      "0  0.049816  0.179095  0.170236  0.177783  0.679478\n",
      "1  0.048832  0.177783  0.170236  0.177455  0.679150\n",
      "2  0.049488  0.178111  0.170236  0.177455  0.678165\n",
      "2457600\n",
      "None\n"
     ]
    }
   ],
   "source": [
    "if __name__ == \"__main__\":\n",
    "    \n",
    "    data = pd.DataFrame(loadmat(DATA_FILE)[ARRAY_NAME], columns=([\"ch1\", \"ch2\", \"ch3\", \"ch4\", \"ch5\"]))\n",
    "    print(data.head(3))\n",
    "    print(data[\"ch1\"].size)  \n",
    "    \n",
    "    maximums_a08r_ch5 = findMaximums(data, \"ch5\", prominence=0.4)\n",
    "    \n",
    "    print(dataSplit(data, maximums_a08r_ch5, \"gfhfg\"))\n",
    "    # plt.figure(figsize=(15, 8))\n",
    "    # plt.plot(data[\"ch5\"], label=\"Channel 5 raw data\")\n",
    "    # plt.plot(data[\"ch5\"].rolling(SPS*3).mean(), color=\"r\", label=\"3s mean\")\n",
    "    \n",
    "    # plt.plot(maximums_a08r_ch5, [data[\"ch5\"][item] for item in maximums_a08r_ch5], \"o\", color=\"g\")\n",
    "    # plt.legend()\n",
    "    # plt.show()\n",
    "    "
   ]
  },
  {
   "cell_type": "code",
   "execution_count": null,
   "metadata": {},
   "outputs": [],
   "source": []
  }
 ],
 "metadata": {
  "interpreter": {
   "hash": "e7370f93d1d0cde622a1f8e1c04877d8463912d04d973331ad4851f04de6915a"
  },
  "kernelspec": {
   "display_name": "Python 3.10.4 64-bit",
   "language": "python",
   "name": "python3"
  },
  "language_info": {
   "codemirror_mode": {
    "name": "ipython",
    "version": 3
   },
   "file_extension": ".py",
   "mimetype": "text/x-python",
   "name": "python",
   "nbconvert_exporter": "python",
   "pygments_lexer": "ipython3",
   "version": "3.10.4"
  },
  "orig_nbformat": 4
 },
 "nbformat": 4,
 "nbformat_minor": 2
}
